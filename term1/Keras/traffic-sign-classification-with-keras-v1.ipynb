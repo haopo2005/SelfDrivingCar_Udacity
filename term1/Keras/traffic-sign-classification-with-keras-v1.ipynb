{
 "cells": [
  {
   "cell_type": "markdown",
   "metadata": {},
   "source": [
    "# Traffic Sign Classification with Keras\n",
    "\n",
    "Keras exists to make coding deep neural networks simpler. To demonstrate just how easy it is, you鈥檙e going to use Keras to build a convolutional neural network in a few dozen lines of code.\n",
    "\n",
    "You鈥檒l be connecting the concepts from the previous lessons to the methods that Keras provides."
   ]
  },
  {
   "cell_type": "markdown",
   "metadata": {},
   "source": [
    "## Dataset\n",
    "\n",
    "The network you'll build with Keras is similar to the example that you can find in Keras鈥檚 GitHub repository that builds out a [convolutional neural network for MNIST](https://github.com/fchollet/keras/blob/master/examples/mnist_cnn.py). \n",
    "\n",
    "However, instead of using the [MNIST](http://yann.lecun.com/exdb/mnist/) dataset, you're going to use the [German Traffic Sign Recognition Benchmark](http://benchmark.ini.rub.de/?section=gtsrb&subsection=news) dataset that you've used previously.\n",
    "\n",
    "You can download pickle files with sanitized traffic sign data here."
   ]
  },
  {
   "cell_type": "markdown",
   "metadata": {},
   "source": [
    "## Overview\n",
    "\n",
    "Here are the steps you'll take to build the network:\n",
    "\n",
    "1. First load the training data and do a train/validation split.\n",
    "2. Preprocess data.\n",
    "3. Build a feedforward neural network to classify traffic signs.\n",
    "4. Build a convolutional neural network to classify traffic signs.\n",
    "5. Evaluate performance of final neural network on testing data.\n",
    "\n",
    "Keep an eye on the network鈥檚 accuracy over time. Once the accuracy reaches the 98% range, you can be confident that you鈥檝e built and trained an effective model."
   ]
  },
  {
   "cell_type": "code",
   "execution_count": 108,
   "metadata": {},
   "outputs": [],
   "source": [
    "import pickle\n",
    "import numpy as np\n",
    "from sklearn.model_selection import train_test_split\n",
    "import math"
   ]
  },
  {
   "cell_type": "markdown",
   "metadata": {},
   "source": [
    "## Load the Data\n",
    "\n",
    "Start by importing the data from the pickle file."
   ]
  },
  {
   "cell_type": "code",
   "execution_count": 109,
   "metadata": {},
   "outputs": [],
   "source": [
    "# TODO: Implement load the data here.\n",
    "with open('train.p', 'rb') as f:\n",
    "    train = pickle.load(f)\n",
    "\n",
    "with open('test.p', 'rb') as f:\n",
    "    test = pickle.load(f)\n",
    "\n",
    "X_train, y_train = train['features'], train['labels']\n",
    "X_test, y_test = test['features'], test['labels']"
   ]
  },
  {
   "cell_type": "markdown",
   "metadata": {},
   "source": [
    "## Validate the Network\n",
    "Split the training data into a training and validation set.\n",
    "\n",
    "Measure the [validation accuracy](https://keras.io/models/sequential/) of the network after two training epochs.\n",
    "\n",
    "Hint: [Use the `train_test_split()` method](http://scikit-learn.org/stable/modules/generated/sklearn.model_selection.train_test_split.html) from scikit-learn."
   ]
  },
  {
   "cell_type": "code",
   "execution_count": 110,
   "metadata": {},
   "outputs": [],
   "source": [
    "# TODO: Use `train_test_split` here.\n",
    "from sklearn.model_selection import train_test_split\n",
    "\n",
    "X_train, X_val, y_train, y_val = train_test_split(X_train, y_train, test_size=0.2, random_state=42)"
   ]
  },
  {
   "cell_type": "code",
   "execution_count": 111,
   "metadata": {},
   "outputs": [],
   "source": [
    "# STOP: Do not change the tests below. Your implementation should pass these tests. \n",
    "assert(X_train.shape[0] == y_train.shape[0]), \"The number of images is not equal to the number of labels.\"\n",
    "assert(X_train.shape[1:] == (32,32,3)), \"The dimensions of the images are not 32 x 32 x 3.\"\n",
    "assert(X_val.shape[0] == y_val.shape[0]), \"The number of images is not equal to the number of labels.\"\n",
    "assert(X_val.shape[1:] == (32,32,3)), \"The dimensions of the images are not 32 x 32 x 3.\""
   ]
  },
  {
   "cell_type": "markdown",
   "metadata": {},
   "source": [
    "## Preprocess the Data\n",
    "\n",
    "Now that you've loaded the training data, preprocess the data such that it's in the range between -0.5 and 0.5."
   ]
  },
  {
   "cell_type": "code",
   "execution_count": 112,
   "metadata": {},
   "outputs": [],
   "source": [
    "# TODO: Implement data normalization here.\n",
    "X_train = np.array(X_train / 255.0 - 0.5 )\n",
    "X_val = np.array(X_val / 255.0 - 0.5 )\n",
    "X_test = np.array(X_test / 255.0 - 0.5 )"
   ]
  },
  {
   "cell_type": "code",
   "execution_count": 113,
   "metadata": {},
   "outputs": [],
   "source": [
    "# STOP: Do not change the tests below. Your implementation should pass these tests. \n",
    "assert(math.isclose(np.min(X_train), -0.5, abs_tol=1e-5) and math.isclose(np.max(X_train), 0.5, abs_tol=1e-5)), \"The range of the training data is: %.1f to %.1f\" % (np.min(X_train), np.max(X_train))\n",
    "assert(math.isclose(np.min(X_val), -0.5, abs_tol=1e-5) and math.isclose(np.max(X_val), 0.5, abs_tol=1e-5)), \"The range of the validation data is: %.1f to %.1f\" % (np.min(X_val), np.max(X_val))"
   ]
  },
  {
   "cell_type": "markdown",
   "metadata": {},
   "source": [
    "## Build a Two-Layer Feedfoward Network\n",
    "\n",
    "The code you've written so far is for data processing, not specific to Keras. Here you're going to build Keras-specific code.\n",
    "\n",
    "Build a two-layer feedforward neural network, with 128 neurons in the fully-connected hidden layer. \n",
    "\n",
    "To get started, review the Keras documentation about [models](https://keras.io/models/sequential/) and [layers](https://keras.io/layers/core/).\n",
    "\n",
    "The Keras example of a [Multi-Layer Perceptron](https://github.com/fchollet/keras/blob/master/examples/mnist_mlp.py) network is similar to what you need to do here. Use that as a guide, but keep in mind that there are a number of differences."
   ]
  },
  {
   "cell_type": "code",
   "execution_count": 114,
   "metadata": {},
   "outputs": [],
   "source": [
    "# TODO: Build a two-layer feedforward neural network with Keras here.\n",
    "from keras.models import Sequential\n",
    "from keras.layers.core import Dense, Activation, Flatten\n",
    "\n",
    "model = Sequential()\n",
    "model.add(Flatten(input_shape=(32, 32, 3)))\n",
    "model.add(Dense(128))\n",
    "model.add(Activation('relu'))\n",
    "model.add(Dense(43))\n",
    "model.add(Activation('softmax'))"
   ]
  },
  {
   "cell_type": "code",
   "execution_count": 115,
   "metadata": {},
   "outputs": [],
   "source": [
    "# STOP: Do not change the tests below. Your implementation should pass these tests.\n",
    "dense_layers = []\n",
    "for l in model.layers:\n",
    "    if type(l) == Dense:\n",
    "        dense_layers.append(l)\n",
    "assert(len(dense_layers) == 2), \"There should be 2 Dense layers.\"\n",
    "d1 = dense_layers[0]\n",
    "d2 = dense_layers[1]\n",
    "assert(d1.input_shape == (None, 3072))\n",
    "assert(d1.output_shape == (None, 128))\n",
    "assert(d2.input_shape == (None, 128))\n",
    "assert(d2.output_shape == (None, 43))\n",
    "\n",
    "last_layer = model.layers[-1]\n",
    "assert(last_layer.activation.__name__ == 'softmax'), \"Last layer should be softmax activation, is {}.\".format(last_layer.activation.__name__)"
   ]
  },
  {
   "cell_type": "code",
   "execution_count": 116,
   "metadata": {},
   "outputs": [
    {
     "name": "stdout",
     "output_type": "stream",
     "text": [
      "dense_31 (None, 3072) (None, 128) <function linear at 0x7f4e2eeab268>\n",
      "activation_31 (None, 128) (None, 128) <function relu at 0x7f4e2eeab048>\n",
      "dense_32 (None, 128) (None, 43) <function linear at 0x7f4e2eeab268>\n",
      "activation_32 (None, 43) (None, 43) <function softmax at 0x7f4e2ee9bd08>\n"
     ]
    }
   ],
   "source": [
    "# Debugging\n",
    "for l in model.layers[1:]:\n",
    "    print(l.name, l.input_shape, l.output_shape, l.activation)"
   ]
  },
  {
   "cell_type": "markdown",
   "metadata": {},
   "source": [
    "## Train the Network\n",
    "Compile and train the network for 2 epochs. [Use the `adam` optimizer, with `categorical_crossentropy` loss.](https://keras.io/models/sequential/)\n",
    "\n",
    "Hint 1: In order to use categorical cross entropy, you will need to [one-hot encode the labels](https://github.com/fchollet/keras/blob/master/keras/utils/np_utils.py).\n",
    "\n",
    "Hint 2: In order to pass the input images to the fully-connected hidden layer, you will need to [reshape the input](https://github.com/fchollet/keras/blob/master/examples/mnist_mlp.py).\n",
    "\n",
    "Hint 3: Keras's `.fit()` method returns a `History.history` object, which the tests below use. Save that to a variable named `history`."
   ]
  },
  {
   "cell_type": "code",
   "execution_count": 117,
   "metadata": {},
   "outputs": [
    {
     "name": "stdout",
     "output_type": "stream",
     "text": [
      "_________________________________________________________________\n",
      "Layer (type)                 Output Shape              Param #   \n",
      "=================================================================\n",
      "flatten_16 (Flatten)         (None, 3072)              0         \n",
      "_________________________________________________________________\n",
      "dense_31 (Dense)             (None, 128)               393344    \n",
      "_________________________________________________________________\n",
      "activation_31 (Activation)   (None, 128)               0         \n",
      "_________________________________________________________________\n",
      "dense_32 (Dense)             (None, 43)                5547      \n",
      "_________________________________________________________________\n",
      "activation_32 (Activation)   (None, 43)                0         \n",
      "=================================================================\n",
      "Total params: 398,891\n",
      "Trainable params: 398,891\n",
      "Non-trainable params: 0\n",
      "_________________________________________________________________\n",
      "Train on 27839 samples, validate on 6960 samples\n",
      "Epoch 1/20\n",
      "27839/27839 [==============================] - 1s 49us/step - loss: 1.8719 - acc: 0.5144 - val_loss: 1.1909 - val_acc: 0.6601\n",
      "Epoch 2/20\n",
      "27839/27839 [==============================] - 1s 45us/step - loss: 0.9042 - acc: 0.7651 - val_loss: 0.7625 - val_acc: 0.7954\n",
      "Epoch 3/20\n",
      "27839/27839 [==============================] - 1s 39us/step - loss: 0.6547 - acc: 0.8290 - val_loss: 0.6195 - val_acc: 0.8309\n",
      "Epoch 4/20\n",
      "27839/27839 [==============================] - 1s 39us/step - loss: 0.5065 - acc: 0.8714 - val_loss: 0.4895 - val_acc: 0.8693\n",
      "Epoch 5/20\n",
      "27839/27839 [==============================] - 1s 39us/step - loss: 0.4211 - acc: 0.8943 - val_loss: 0.5076 - val_acc: 0.8562\n",
      "Epoch 6/20\n",
      "27839/27839 [==============================] - 1s 40us/step - loss: 0.3735 - acc: 0.9048 - val_loss: 0.3964 - val_acc: 0.8991\n",
      "Epoch 7/20\n",
      "27839/27839 [==============================] - 1s 39us/step - loss: 0.3328 - acc: 0.9146 - val_loss: 0.3621 - val_acc: 0.9103\n",
      "Epoch 8/20\n",
      "27839/27839 [==============================] - 1s 39us/step - loss: 0.3084 - acc: 0.9195 - val_loss: 0.3312 - val_acc: 0.9093\n",
      "Epoch 9/20\n",
      "27839/27839 [==============================] - 1s 42us/step - loss: 0.2804 - acc: 0.9260 - val_loss: 0.3052 - val_acc: 0.9279\n",
      "Epoch 10/20\n",
      "27839/27839 [==============================] - 1s 40us/step - loss: 0.2567 - acc: 0.9331 - val_loss: 0.2781 - val_acc: 0.9284\n",
      "Epoch 11/20\n",
      "27839/27839 [==============================] - 1s 39us/step - loss: 0.2233 - acc: 0.9432 - val_loss: 0.2783 - val_acc: 0.9249\n",
      "Epoch 12/20\n",
      "27839/27839 [==============================] - 1s 39us/step - loss: 0.2277 - acc: 0.9392 - val_loss: 0.3137 - val_acc: 0.9144\n",
      "Epoch 13/20\n",
      "27839/27839 [==============================] - 1s 42us/step - loss: 0.2072 - acc: 0.9459 - val_loss: 0.2303 - val_acc: 0.9434\n",
      "Epoch 14/20\n",
      "27839/27839 [==============================] - 1s 40us/step - loss: 0.2033 - acc: 0.9460 - val_loss: 0.2790 - val_acc: 0.9207\n",
      "Epoch 15/20\n",
      "27839/27839 [==============================] - 1s 39us/step - loss: 0.2005 - acc: 0.9464 - val_loss: 0.2851 - val_acc: 0.9257\n",
      "Epoch 16/20\n",
      "27839/27839 [==============================] - 1s 39us/step - loss: 0.1832 - acc: 0.9508 - val_loss: 0.2758 - val_acc: 0.9279\n",
      "Epoch 17/20\n",
      "27839/27839 [==============================] - 1s 40us/step - loss: 0.1691 - acc: 0.9560 - val_loss: 0.2286 - val_acc: 0.9412\n",
      "Epoch 18/20\n",
      "27839/27839 [==============================] - 1s 40us/step - loss: 0.1600 - acc: 0.9571 - val_loss: 0.2381 - val_acc: 0.9355\n",
      "Epoch 19/20\n",
      "27839/27839 [==============================] - 1s 42us/step - loss: 0.1555 - acc: 0.9582 - val_loss: 0.2369 - val_acc: 0.9444\n",
      "Epoch 20/20\n",
      "27839/27839 [==============================] - 1s 40us/step - loss: 0.1736 - acc: 0.9516 - val_loss: 0.2169 - val_acc: 0.9437\n"
     ]
    }
   ],
   "source": [
    "# TODO: Compile and train the model here.\n",
    "import numpy as np\n",
    "from sklearn.preprocessing import LabelBinarizer\n",
    "label_binarizer = LabelBinarizer()\n",
    "y_train_hot = label_binarizer.fit_transform(y_train)\n",
    "y_val_hot = label_binarizer.fit_transform(y_val)\n",
    "\n",
    "'''\n",
    "from keras.utils import np_utils\n",
    "Y_train = np_utils.to_categorical(y_train, 43)\n",
    "print(np.shape(Y_train))\n",
    "'''\n",
    "model.summary()\n",
    "model.compile('adam', 'categorical_crossentropy', ['accuracy'])\n",
    "history = model.fit(X_train, y_train_hot,batch_size=128, epochs=20, validation_data=(X_val,y_val_hot))"
   ]
  },
  {
   "cell_type": "code",
   "execution_count": 118,
   "metadata": {},
   "outputs": [],
   "source": [
    "# STOP: Do not change the tests below. Your implementation should pass these tests.\n",
    "assert(history.history['acc'][-1] > 0.92), \"The training accuracy was: %.3f\" % history.history['acc'][-1]\n",
    "assert(history.history['val_acc'][-1] > 0.9), \"The validation accuracy is: %.3f\" % history.history['val_acc'][-1]"
   ]
  },
  {
   "cell_type": "markdown",
   "metadata": {},
   "source": [
    "**Validation Accuracy**: (fill in here)"
   ]
  },
  {
   "cell_type": "markdown",
   "metadata": {},
   "source": [
    "## Congratulations\n",
    "You've built a feedforward neural network in Keras!\n",
    "\n",
    "Don't stop here! Next, you'll add a convolutional layer to drive.py."
   ]
  },
  {
   "cell_type": "markdown",
   "metadata": {},
   "source": [
    "## Convolutions\n",
    "Build a new network, similar to your existing network. Before the hidden layer, add a 3x3 [convolutional layer](https://keras.io/layers/convolutional/#convolution2d) with 32 filters and valid padding.\n",
    "\n",
    "Then compile and train the network.\n",
    "\n",
    "Hint 1: The Keras example of a [convolutional neural network](https://github.com/fchollet/keras/blob/master/examples/mnist_cnn.py) for MNIST would be a good example to review.\n",
    "\n",
    "Hint 2: Now that the first layer of the network is a convolutional layer, you no longer need to reshape the input images before passing them to the network. You might need to reload your training data to recover the original shape.\n",
    "\n",
    "Hint 3: Add a [`Flatten()` layer](https://keras.io/layers/core/#flatten) between the convolutional layer and the fully-connected hidden layer."
   ]
  },
  {
   "cell_type": "code",
   "execution_count": 119,
   "metadata": {},
   "outputs": [
    {
     "name": "stdout",
     "output_type": "stream",
     "text": [
      "_________________________________________________________________\n",
      "Layer (type)                 Output Shape              Param #   \n",
      "=================================================================\n",
      "conv2d_7 (Conv2D)            (None, 30, 30, 32)        896       \n",
      "_________________________________________________________________\n",
      "flatten_17 (Flatten)         (None, 28800)             0         \n",
      "_________________________________________________________________\n",
      "dense_33 (Dense)             (None, 128)               3686528   \n",
      "_________________________________________________________________\n",
      "activation_33 (Activation)   (None, 128)               0         \n",
      "_________________________________________________________________\n",
      "dense_34 (Dense)             (None, 43)                5547      \n",
      "_________________________________________________________________\n",
      "activation_34 (Activation)   (None, 43)                0         \n",
      "=================================================================\n",
      "Total params: 3,692,971\n",
      "Trainable params: 3,692,971\n",
      "Non-trainable params: 0\n",
      "_________________________________________________________________\n"
     ]
    },
    {
     "name": "stderr",
     "output_type": "stream",
     "text": [
      "/home/jst/share/project/udacity/install/miniconda3/envs/carnd-term1/lib/python3.5/site-packages/ipykernel_launcher.py:11: UserWarning: Update your `Conv2D` call to the Keras 2 API: `Conv2D(32, kernel_size=(3, 3), padding=\"VALID\", input_shape=(32, 32, 3..., activation=\"relu\")`\n",
      "  # This is added back by InteractiveShellApp.init_path()\n"
     ]
    },
    {
     "name": "stdout",
     "output_type": "stream",
     "text": [
      "Train on 27839 samples, validate on 6960 samples\n",
      "Epoch 1/5\n",
      "27839/27839 [==============================] - 3s 111us/step - loss: 1.2306 - acc: 0.6801 - val_loss: 0.4977 - val_acc: 0.8608\n",
      "Epoch 2/5\n",
      "27839/27839 [==============================] - 3s 102us/step - loss: 0.2961 - acc: 0.9296 - val_loss: 0.2693 - val_acc: 0.9306\n",
      "Epoch 3/5\n",
      "27839/27839 [==============================] - 3s 103us/step - loss: 0.1637 - acc: 0.9599 - val_loss: 0.1986 - val_acc: 0.9506\n",
      "Epoch 4/5\n",
      "27839/27839 [==============================] - 3s 103us/step - loss: 0.1021 - acc: 0.9777 - val_loss: 0.1653 - val_acc: 0.9585\n",
      "Epoch 5/5\n",
      "27839/27839 [==============================] - 3s 102us/step - loss: 0.0699 - acc: 0.9850 - val_loss: 0.1349 - val_acc: 0.9697\n"
     ]
    }
   ],
   "source": [
    "# TODO: Re-construct the network and add a convolutional layer before the first fully-connected layer.\n",
    "from keras.models import Sequential\n",
    "from keras.layers.core import Dense, Activation, Flatten\n",
    "from keras.layers import Conv2D, MaxPooling2D, Dropout\n",
    "\n",
    "# Build the Fully Connected Neural Network in Keras Here\n",
    "model = Sequential()\n",
    "model.add(Conv2D(32, kernel_size=(3, 3),\n",
    "                 activation='relu',\n",
    "                 input_shape=(32, 32, 3),\n",
    "                 border_mode='VALID'))\n",
    "model.add(Flatten())\n",
    "model.add(Dense(128))\n",
    "model.add(Activation('relu'))\n",
    "model.add(Dense(43))\n",
    "model.add(Activation('softmax'))\n",
    "# TODO: Compile and train the model here.\n",
    "model.summary()\n",
    "model.compile('adam', 'categorical_crossentropy', ['accuracy'])\n",
    "history = model.fit(X_train, y_train_hot,batch_size=128, epochs=5, validation_data=(X_val,y_val_hot))"
   ]
  },
  {
   "cell_type": "code",
   "execution_count": 120,
   "metadata": {},
   "outputs": [],
   "source": [
    "# STOP: Do not change the tests below. Your implementation should pass these tests.\n",
    "assert(history.history['val_acc'][-1] > 0.95), \"The validation accuracy is: %.3f\" % history.history['val_acc'][-1]"
   ]
  },
  {
   "cell_type": "markdown",
   "metadata": {},
   "source": [
    "**Validation Accuracy**: (fill in here)"
   ]
  },
  {
   "cell_type": "markdown",
   "metadata": {},
   "source": [
    "## Pooling\n",
    "Re-construct your network and add a 2x2 [pooling layer](https://keras.io/layers/pooling/#maxpooling2d) immediately following your convolutional layer.\n",
    "\n",
    "Then compile and train the network."
   ]
  },
  {
   "cell_type": "code",
   "execution_count": 121,
   "metadata": {},
   "outputs": [
    {
     "name": "stdout",
     "output_type": "stream",
     "text": [
      "_________________________________________________________________\n",
      "Layer (type)                 Output Shape              Param #   \n",
      "=================================================================\n",
      "conv2d_8 (Conv2D)            (None, 30, 30, 32)        896       \n",
      "_________________________________________________________________\n",
      "max_pooling2d_4 (MaxPooling2 (None, 15, 15, 32)        0         \n",
      "_________________________________________________________________\n",
      "flatten_18 (Flatten)         (None, 7200)              0         \n",
      "_________________________________________________________________\n",
      "dense_35 (Dense)             (None, 128)               921728    \n",
      "_________________________________________________________________\n",
      "activation_35 (Activation)   (None, 128)               0         \n",
      "_________________________________________________________________\n",
      "dense_36 (Dense)             (None, 43)                5547      \n",
      "_________________________________________________________________\n",
      "activation_36 (Activation)   (None, 43)                0         \n",
      "=================================================================\n",
      "Total params: 928,171\n",
      "Trainable params: 928,171\n",
      "Non-trainable params: 0\n",
      "_________________________________________________________________\n"
     ]
    },
    {
     "name": "stderr",
     "output_type": "stream",
     "text": [
      "/home/jst/share/project/udacity/install/miniconda3/envs/carnd-term1/lib/python3.5/site-packages/ipykernel_launcher.py:12: UserWarning: Update your `Conv2D` call to the Keras 2 API: `Conv2D(32, kernel_size=(3, 3), padding=\"VALID\", input_shape=(32, 32, 3..., activation=\"relu\")`\n",
      "  if sys.path[0] == '':\n"
     ]
    },
    {
     "name": "stdout",
     "output_type": "stream",
     "text": [
      "Train on 27839 samples, validate on 6960 samples\n",
      "Epoch 1/5\n",
      "27839/27839 [==============================] - 2s 84us/step - loss: 1.5867 - acc: 0.5900 - val_loss: 0.7328 - val_acc: 0.7843\n",
      "Epoch 2/5\n",
      "27839/27839 [==============================] - 2s 85us/step - loss: 0.4545 - acc: 0.8914 - val_loss: 0.3449 - val_acc: 0.9145\n",
      "Epoch 3/5\n",
      "27839/27839 [==============================] - 2s 77us/step - loss: 0.2460 - acc: 0.9440 - val_loss: 0.2377 - val_acc: 0.9414\n",
      "Epoch 4/5\n",
      "27839/27839 [==============================] - 2s 81us/step - loss: 0.1611 - acc: 0.9649 - val_loss: 0.1996 - val_acc: 0.9519\n",
      "Epoch 5/5\n",
      "27839/27839 [==============================] - 2s 76us/step - loss: 0.1172 - acc: 0.9751 - val_loss: 0.1760 - val_acc: 0.9599\n"
     ]
    }
   ],
   "source": [
    "# TODO: Re-construct the network and add a pooling layer after the convolutional layer.\n",
    "# TODO: Re-construct the network and add a convolutional layer before the first fully-connected layer.\n",
    "from keras.models import Sequential\n",
    "from keras.layers.core import Dense, Activation, Flatten\n",
    "from keras.layers import Conv2D, MaxPooling2D, Dropout\n",
    "\n",
    "# Build the Fully Connected Neural Network in Keras Here\n",
    "model = Sequential()\n",
    "model.add(Conv2D(32, kernel_size=(3, 3),\n",
    "                 activation='relu',\n",
    "                 input_shape=(32, 32, 3),\n",
    "                 border_mode='VALID'))\n",
    "model.add(MaxPooling2D(pool_size=(2, 2)))\n",
    "model.add(Flatten())\n",
    "model.add(Dense(128))\n",
    "model.add(Activation('relu'))\n",
    "model.add(Dense(43))\n",
    "model.add(Activation('softmax'))\n",
    "# TODO: Compile and train the model here.\n",
    "model.summary()\n",
    "model.compile('adam', 'categorical_crossentropy', ['accuracy'])\n",
    "history = model.fit(X_train, y_train_hot,batch_size=128, epochs=5, validation_data=(X_val,y_val_hot))"
   ]
  },
  {
   "cell_type": "code",
   "execution_count": 122,
   "metadata": {},
   "outputs": [],
   "source": [
    "# STOP: Do not change the tests below. Your implementation should pass these tests.\n",
    "assert(history.history['val_acc'][-1] > 0.95), \"The validation accuracy is: %.3f\" % history.history['val_acc'][-1]"
   ]
  },
  {
   "cell_type": "markdown",
   "metadata": {},
   "source": [
    "**Validation Accuracy**: (fill in here)"
   ]
  },
  {
   "cell_type": "markdown",
   "metadata": {},
   "source": [
    "## Dropout\n",
    "Re-construct your network and add [dropout](https://keras.io/layers/core/#dropout) after the pooling layer. Set the dropout rate to 50%."
   ]
  },
  {
   "cell_type": "code",
   "execution_count": 123,
   "metadata": {},
   "outputs": [
    {
     "name": "stdout",
     "output_type": "stream",
     "text": [
      "_________________________________________________________________\n",
      "Layer (type)                 Output Shape              Param #   \n",
      "=================================================================\n",
      "conv2d_9 (Conv2D)            (None, 30, 30, 32)        896       \n",
      "_________________________________________________________________\n",
      "max_pooling2d_5 (MaxPooling2 (None, 15, 15, 32)        0         \n",
      "_________________________________________________________________\n",
      "dropout_2 (Dropout)          (None, 15, 15, 32)        0         \n",
      "_________________________________________________________________\n",
      "flatten_19 (Flatten)         (None, 7200)              0         \n",
      "_________________________________________________________________\n",
      "dense_37 (Dense)             (None, 128)               921728    \n",
      "_________________________________________________________________\n",
      "activation_37 (Activation)   (None, 128)               0         \n",
      "_________________________________________________________________\n",
      "dense_38 (Dense)             (None, 43)                5547      \n",
      "_________________________________________________________________\n",
      "activation_38 (Activation)   (None, 43)                0         \n",
      "=================================================================\n",
      "Total params: 928,171\n",
      "Trainable params: 928,171\n",
      "Non-trainable params: 0\n",
      "_________________________________________________________________\n"
     ]
    },
    {
     "name": "stderr",
     "output_type": "stream",
     "text": [
      "/home/jst/share/project/udacity/install/miniconda3/envs/carnd-term1/lib/python3.5/site-packages/ipykernel_launcher.py:12: UserWarning: Update your `Conv2D` call to the Keras 2 API: `Conv2D(32, kernel_size=(3, 3), padding=\"VALID\", input_shape=(32, 32, 3..., activation=\"relu\")`\n",
      "  if sys.path[0] == '':\n"
     ]
    },
    {
     "name": "stdout",
     "output_type": "stream",
     "text": [
      "Train on 27839 samples, validate on 6960 samples\n",
      "Epoch 1/5\n",
      "27839/27839 [==============================] - 3s 96us/step - loss: 1.6761 - acc: 0.5639 - val_loss: 0.7182 - val_acc: 0.8296\n",
      "Epoch 2/5\n",
      "27839/27839 [==============================] - 2s 84us/step - loss: 0.5389 - acc: 0.8621 - val_loss: 0.3871 - val_acc: 0.8980\n",
      "Epoch 3/5\n",
      "27839/27839 [==============================] - 2s 88us/step - loss: 0.3260 - acc: 0.9166 - val_loss: 0.2564 - val_acc: 0.9506\n",
      "Epoch 4/5\n",
      "27839/27839 [==============================] - 3s 91us/step - loss: 0.2319 - acc: 0.9408 - val_loss: 0.1974 - val_acc: 0.9619\n",
      "Epoch 5/5\n",
      "27839/27839 [==============================] - 3s 96us/step - loss: 0.1864 - acc: 0.9522 - val_loss: 0.1663 - val_acc: 0.9659\n"
     ]
    }
   ],
   "source": [
    "# TODO: Re-construct the network and add a pooling layer after the convolutional layer.\n",
    "# TODO: Re-construct the network and add a convolutional layer before the first fully-connected layer.\n",
    "from keras.models import Sequential\n",
    "from keras.layers.core import Dense, Activation, Flatten\n",
    "from keras.layers import Conv2D, MaxPooling2D, Dropout\n",
    "\n",
    "# Build the Fully Connected Neural Network in Keras Here\n",
    "model = Sequential()\n",
    "model.add(Conv2D(32, kernel_size=(3, 3),\n",
    "                 activation='relu',\n",
    "                 input_shape=(32, 32, 3),\n",
    "                 border_mode='VALID'))\n",
    "model.add(MaxPooling2D(pool_size=(2, 2)))\n",
    "model.add(Dropout(0.5))\n",
    "model.add(Flatten())\n",
    "model.add(Dense(128))\n",
    "model.add(Activation('relu'))\n",
    "model.add(Dense(43))\n",
    "model.add(Activation('softmax'))\n",
    "# TODO: Compile and train the model here.\n",
    "model.summary()\n",
    "model.compile('adam', 'categorical_crossentropy', ['accuracy'])\n",
    "history = model.fit(X_train, y_train_hot,batch_size=128, epochs=5, validation_data=(X_val,y_val_hot))"
   ]
  },
  {
   "cell_type": "code",
   "execution_count": 124,
   "metadata": {},
   "outputs": [],
   "source": [
    "# STOP: Do not change the tests below. Your implementation should pass these tests.\n",
    "assert(history.history['val_acc'][-1] > 0.95), \"The validation accuracy is: %.3f\" % history.history['val_acc'][-1]"
   ]
  },
  {
   "cell_type": "markdown",
   "metadata": {
    "collapsed": true
   },
   "source": [
    "**Validation Accuracy**: (fill in here)"
   ]
  },
  {
   "cell_type": "markdown",
   "metadata": {},
   "source": [
    "## Optimization\n",
    "Congratulations! You've built a neural network with convolutions, pooling, dropout, and fully-connected layers, all in just a few lines of code.\n",
    "\n",
    "Have fun with the model and see how well you can do! Add more layers, or regularization, or different padding, or batches, or more training epochs.\n",
    "\n",
    "What is the best validation accuracy you can achieve?"
   ]
  },
  {
   "cell_type": "code",
   "execution_count": null,
   "metadata": {},
   "outputs": [],
   "source": []
  },
  {
   "cell_type": "markdown",
   "metadata": {},
   "source": [
    "**Best Validation Accuracy:** (fill in here)"
   ]
  },
  {
   "cell_type": "markdown",
   "metadata": {},
   "source": [
    "## Testing\n",
    "Once you've picked out your best model, it's time to test it.\n",
    "\n",
    "Load up the test data and use the [`evaluate()` method](https://keras.io/models/model/#evaluate) to see how well it does.\n",
    "\n",
    "Hint 1: The `evaluate()` method should return an array of numbers. Use the `metrics_names()` method to get the labels."
   ]
  },
  {
   "cell_type": "code",
   "execution_count": 125,
   "metadata": {},
   "outputs": [
    {
     "name": "stdout",
     "output_type": "stream",
     "text": [
      "12630/12630 [==============================] - 1s 103us/step\n",
      "Test loss: 0.5149058224469636\n",
      "Test accuracy: 0.8799683294688909\n",
      "loss: 0.5149058224469636\n",
      "acc: 0.8799683294688909\n"
     ]
    }
   ],
   "source": [
    "# TODO: Load test data\n",
    "    \n",
    "# TODO: Preprocess data & one-hot encode the labels\n",
    "import numpy as np\n",
    "from sklearn.preprocessing import LabelBinarizer\n",
    "label_binarizer = LabelBinarizer()\n",
    "y_test_hot = label_binarizer.fit_transform(y_test)\n",
    "\n",
    "# TODO: Evaluate model on test data\n",
    "score = model.evaluate(X_test, y_test_hot, verbose=1)\n",
    "print('Test loss:', score[0])\n",
    "print('Test accuracy:', score[1])\n",
    "\n",
    "\n",
    "for metric_i in range(len(model.metrics_names)):\n",
    "    metric_name = model.metrics_names[metric_i]\n",
    "    metric_value = score[metric_i]\n",
    "    print('{}: {}'.format(metric_name, metric_value))"
   ]
  },
  {
   "cell_type": "markdown",
   "metadata": {},
   "source": [
    "**Test Accuracy:** (fill in here)"
   ]
  },
  {
   "cell_type": "markdown",
   "metadata": {},
   "source": [
    "## Summary\n",
    "Keras is a great tool to use if you want to quickly build a neural network and evaluate performance."
   ]
  }
 ],
 "metadata": {
  "anaconda-cloud": {},
  "kernelspec": {
   "display_name": "Python 3",
   "language": "python",
   "name": "python3"
  },
  "language_info": {
   "codemirror_mode": {
    "name": "ipython",
    "version": 3
   },
   "file_extension": ".py",
   "mimetype": "text/x-python",
   "name": "python",
   "nbconvert_exporter": "python",
   "pygments_lexer": "ipython3",
   "version": "3.5.2"
  },
  "widgets": {
   "state": {},
   "version": "1.1.2"
  }
 },
 "nbformat": 4,
 "nbformat_minor": 1
}
