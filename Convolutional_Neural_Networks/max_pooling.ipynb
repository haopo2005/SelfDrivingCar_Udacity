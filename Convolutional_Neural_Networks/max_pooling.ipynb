{
 "cells": [
  {
   "cell_type": "code",
   "execution_count": 5,
   "metadata": {},
   "outputs": [
    {
     "name": "stdout",
     "output_type": "stream",
     "text": [
      "[[[[ 2.5]\n",
      "   [10. ]]\n",
      "\n",
      "  [[15. ]\n",
      "   [ 6. ]]]]\n"
     ]
    }
   ],
   "source": [
    "\"\"\"\n",
    "Set the values to `strides` and `ksize` such that\n",
    "the output shape after pooling is (1, 2, 2, 1).\n",
    "\"\"\"\n",
    "import tensorflow as tf\n",
    "import numpy as np\n",
    "\n",
    "# `tf.nn.max_pool` requires the input be 4D (batch_size, height, width, depth)\n",
    "# (1, 4, 4, 1)\n",
    "x = np.array([\n",
    "    [0, 1, 0.5, 10],\n",
    "    [2, 2.5, 1, -8],\n",
    "    [4, 0, 5, 6],\n",
    "    [15, 1, 2, 3]], dtype=np.float32).reshape((1, 4, 4, 1))\n",
    "X = tf.constant(x)\n",
    "\n",
    "\n",
    "# TODO: Set the ksize (filter size) for each dimension (batch_size, height, width, depth)\n",
    "ksize = [1, 2, 2, 1]\n",
    "# TODO: Set the stride for each dimension (batch_size, height, width, depth)\n",
    "strides = [1, 2, 2, 1]\n",
    "# TODO: set the padding, either 'VALID' or 'SAME'.\n",
    "padding = 'VALID'\n",
    "# https://www.tensorflow.org/versions/r0.11/api_docs/python/nn.html#max_pool\n",
    "maxpool = tf.nn.max_pool(X, ksize, strides, padding)\n",
    "\n",
    "with tf.Session() as sess:\n",
    "    out = sess.run(maxpool, feed_dict={X:x})\n",
    "    print(out)"
   ]
  },
  {
   "cell_type": "code",
   "execution_count": null,
   "metadata": {},
   "outputs": [],
   "source": []
  }
 ],
 "metadata": {
  "kernelspec": {
   "display_name": "Python 3",
   "language": "python",
   "name": "python3"
  },
  "language_info": {
   "codemirror_mode": {
    "name": "ipython",
    "version": 3
   },
   "file_extension": ".py",
   "mimetype": "text/x-python",
   "name": "python",
   "nbconvert_exporter": "python",
   "pygments_lexer": "ipython3",
   "version": "3.5.2"
  },
  "widgets": {
   "state": {},
   "version": "1.1.2"
  }
 },
 "nbformat": 4,
 "nbformat_minor": 2
}
